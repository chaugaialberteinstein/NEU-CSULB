{
  "nbformat": 4,
  "nbformat_minor": 0,
  "metadata": {
    "colab": {
      "provenance": []
    },
    "kernelspec": {
      "name": "python3",
      "display_name": "Python 3"
    },
    "language_info": {
      "name": "python"
    }
  },
  "cells": [
    {
      "cell_type": "markdown",
      "source": [
        "# 3.1"
      ],
      "metadata": {
        "id": "jKtE7L7uWHob"
      }
    },
    {
      "cell_type": "code",
      "source": [
        "import numpy as np\n",
        "import matplotlib.pyplot as plt"
      ],
      "metadata": {
        "id": "Vjz4UeIuGeyN"
      },
      "execution_count": null,
      "outputs": []
    },
    {
      "cell_type": "code",
      "execution_count": null,
      "metadata": {
        "id": "gwAYx7nkDtVB"
      },
      "outputs": [],
      "source": [
        "\n",
        "banana_prototype = np.array([-1, 1, -1]).reshape((3, 1))\n",
        "pineapple_prototype = np.array([-1, -1, 1]).reshape((3, 1))\n",
        "prototypes = np.array([banana_prototype.T[0], pineapple_prototype.T[0]])\n",
        "\n",
        "near_pineapple = np.array([1, -1, 1]).reshape((3, 1))\n",
        "near_banana = np.array([-1, 1, -1]).reshape((3, 1))"
      ]
    },
    {
      "cell_type": "code",
      "source": [
        "print(prototypes)"
      ],
      "metadata": {
        "colab": {
          "base_uri": "https://localhost:8080/"
        },
        "id": "EiKkQu7XEfp7",
        "outputId": "dc8c60ab-373a-4f19-bec7-c06b5eaf489a"
      },
      "execution_count": null,
      "outputs": [
        {
          "output_type": "stream",
          "name": "stdout",
          "text": [
            "[[-1  1 -1]\n",
            " [-1 -1  1]]\n"
          ]
        }
      ]
    },
    {
      "cell_type": "markdown",
      "source": [
        "## 3.1.1. Decision Boundary"
      ],
      "metadata": {
        "id": "KHAIExffNXor"
      }
    },
    {
      "cell_type": "markdown",
      "source": [
        "i.   Design a perceptron to recognize these patterns.\n",
        "\n",
        "Note: Decision boundary is a weight that points towards that of a banana."
      ],
      "metadata": {
        "id": "1ohKkZUOK5Cz"
      }
    },
    {
      "cell_type": "code",
      "source": [
        "banana_prototype = np.array([-1, 1, -1]).reshape((3, 1))\n",
        "pineapple_prototype = np.array([-1, -1, 1]).reshape((3, 1))\n",
        "\n",
        "# Weight matrix and bias determined by decision boundary.\n",
        "decision_boundary = (banana_prototype != pineapple_prototype).astype(int).reshape((1, len(banana_prototype)))\n",
        "print(decision_boundary)"
      ],
      "metadata": {
        "colab": {
          "base_uri": "https://localhost:8080/"
        },
        "id": "20uNXlTeM_tA",
        "outputId": "79c83e5d-5029-4b55-a768-817490bf95aa"
      },
      "execution_count": null,
      "outputs": [
        {
          "output_type": "stream",
          "name": "stdout",
          "text": [
            "[[0 1 1]]\n"
          ]
        }
      ]
    },
    {
      "cell_type": "markdown",
      "source": [
        "## 3.1.2. Perceptron\n",
        "\n",
        "\n",
        "\n"
      ],
      "metadata": {
        "id": "V15muuRoHFab"
      }
    },
    {
      "cell_type": "markdown",
      "source": [
        "### 3.2.1. Transfer functions"
      ],
      "metadata": {
        "id": "CaJP0_hRH439"
      }
    },
    {
      "cell_type": "code",
      "source": [
        "class transfer_functions():\n",
        "  import numpy as np\n",
        "\n",
        "  # Transfer functions as defined by Neural Network Toolbox for MATLAB\n",
        "\n",
        "  def hardlim(n):\n",
        "      \"\"\"\n",
        "      Hard Limit\n",
        "      \"\"\"\n",
        "      if n < 0:\n",
        "          return 0\n",
        "      else:\n",
        "          return 1\n",
        "\n",
        "  def hardlims(n):\n",
        "      \"\"\"\n",
        "      Symmetrical Hard Limit\n",
        "      \"\"\"\n",
        "      if n < 0:\n",
        "          return -1\n",
        "      else:\n",
        "          return 1\n",
        "\n",
        "  def purelin(n):\n",
        "      \"\"\"\n",
        "      Linear\n",
        "      \"\"\"\n",
        "      return n\n",
        "\n",
        "  def satlin(n):\n",
        "      \"\"\"\n",
        "      Saturing Linear\n",
        "      \"\"\"\n",
        "      if n < 0:\n",
        "          return 0\n",
        "      elif n > 1:\n",
        "          return 1\n",
        "      else:\n",
        "          return n\n",
        "\n",
        "  def satlins(n):\n",
        "      \"\"\"\n",
        "      Symmetric Saturating Linear\n",
        "      \"\"\"\n",
        "      if n < -1:\n",
        "          return -1\n",
        "      elif n > 1:\n",
        "          return 1\n",
        "      else:\n",
        "          return n\n",
        "\n",
        "  def logsig(n):\n",
        "      \"\"\"\n",
        "      Log-Sigmoid\n",
        "      \"\"\"\n",
        "      return 1/(1+np.exp(-1*n))\n",
        "\n",
        "  def tansig(n):\n",
        "      \"\"\"\n",
        "      Hyperbolic Tangent Sigmoid\n",
        "      \"\"\"\n",
        "      return (np.exp(n) - np.exp(-1*n))/(np.exp(n) + np.exp(-1*n))\n",
        "\n",
        "  def poslin(n):\n",
        "      \"\"\"\n",
        "      Positive Linear\n",
        "      \"\"\"\n",
        "      if n < 0:\n",
        "          return 0\n",
        "      else:\n",
        "          return n\n",
        "\n",
        "  def compet(n):\n",
        "      \"\"\"\n",
        "      Competitive\n",
        "\n",
        "      \"\"\"\n",
        "      return (n > 0).astype(np.int)\n",
        "\n",
        "\n"
      ],
      "metadata": {
        "id": "w_tVOAu5H-81"
      },
      "execution_count": 25,
      "outputs": []
    },
    {
      "cell_type": "code",
      "source": [
        "class Perceptron(object):\n",
        "    def __init__(self, W, b, transfer_function=hardlims):\n",
        "        self.Weights = W\n",
        "        self.bias = b\n",
        "        self.transfer_function = np.vectorize(transfer_function)\n",
        "\n",
        "    def classify(self, prototype):\n",
        "        net_input = self.Weights.dot(prototype) + self.bias\n",
        "        return self.transfer_function(net_input)"
      ],
      "metadata": {
        "id": "Tc0xOS0vIPGR",
        "colab": {
          "base_uri": "https://localhost:8080/",
          "height": 385
        },
        "outputId": "af1b04e3-d3b4-46ae-8fda-28cdb4e767cf"
      },
      "execution_count": 26,
      "outputs": [
        {
          "output_type": "error",
          "ename": "NameError",
          "evalue": "ignored",
          "traceback": [
            "\u001b[0;31m---------------------------------------------------------------------------\u001b[0m",
            "\u001b[0;31mNameError\u001b[0m                                 Traceback (most recent call last)",
            "\u001b[0;32m<ipython-input-26-f52664712d6b>\u001b[0m in \u001b[0;36m<cell line: 1>\u001b[0;34m()\u001b[0m\n\u001b[0;32m----> 1\u001b[0;31m \u001b[0;32mclass\u001b[0m \u001b[0mPerceptron\u001b[0m\u001b[0;34m(\u001b[0m\u001b[0mobject\u001b[0m\u001b[0;34m)\u001b[0m\u001b[0;34m:\u001b[0m\u001b[0;34m\u001b[0m\u001b[0;34m\u001b[0m\u001b[0m\n\u001b[0m\u001b[1;32m      2\u001b[0m     \u001b[0;32mdef\u001b[0m \u001b[0m__init__\u001b[0m\u001b[0;34m(\u001b[0m\u001b[0mself\u001b[0m\u001b[0;34m,\u001b[0m \u001b[0mW\u001b[0m\u001b[0;34m,\u001b[0m \u001b[0mb\u001b[0m\u001b[0;34m,\u001b[0m \u001b[0mtransfer_function\u001b[0m\u001b[0;34m=\u001b[0m\u001b[0mhardlims\u001b[0m\u001b[0;34m)\u001b[0m\u001b[0;34m:\u001b[0m\u001b[0;34m\u001b[0m\u001b[0;34m\u001b[0m\u001b[0m\n\u001b[1;32m      3\u001b[0m         \u001b[0mself\u001b[0m\u001b[0;34m.\u001b[0m\u001b[0mWeights\u001b[0m \u001b[0;34m=\u001b[0m \u001b[0mW\u001b[0m\u001b[0;34m\u001b[0m\u001b[0;34m\u001b[0m\u001b[0m\n\u001b[1;32m      4\u001b[0m         \u001b[0mself\u001b[0m\u001b[0;34m.\u001b[0m\u001b[0mbias\u001b[0m \u001b[0;34m=\u001b[0m \u001b[0mb\u001b[0m\u001b[0;34m\u001b[0m\u001b[0;34m\u001b[0m\u001b[0m\n\u001b[1;32m      5\u001b[0m         \u001b[0mself\u001b[0m\u001b[0;34m.\u001b[0m\u001b[0mtransfer_function\u001b[0m \u001b[0;34m=\u001b[0m \u001b[0mnp\u001b[0m\u001b[0;34m.\u001b[0m\u001b[0mvectorize\u001b[0m\u001b[0;34m(\u001b[0m\u001b[0mtransfer_function\u001b[0m\u001b[0;34m)\u001b[0m\u001b[0;34m\u001b[0m\u001b[0;34m\u001b[0m\u001b[0m\n",
            "\u001b[0;32m<ipython-input-26-f52664712d6b>\u001b[0m in \u001b[0;36mPerceptron\u001b[0;34m()\u001b[0m\n\u001b[1;32m      1\u001b[0m \u001b[0;32mclass\u001b[0m \u001b[0mPerceptron\u001b[0m\u001b[0;34m(\u001b[0m\u001b[0mobject\u001b[0m\u001b[0;34m)\u001b[0m\u001b[0;34m:\u001b[0m\u001b[0;34m\u001b[0m\u001b[0;34m\u001b[0m\u001b[0m\n\u001b[0;32m----> 2\u001b[0;31m     \u001b[0;32mdef\u001b[0m \u001b[0m__init__\u001b[0m\u001b[0;34m(\u001b[0m\u001b[0mself\u001b[0m\u001b[0;34m,\u001b[0m \u001b[0mW\u001b[0m\u001b[0;34m,\u001b[0m \u001b[0mb\u001b[0m\u001b[0;34m,\u001b[0m \u001b[0mtransfer_function\u001b[0m\u001b[0;34m=\u001b[0m\u001b[0mhardlims\u001b[0m\u001b[0;34m)\u001b[0m\u001b[0;34m:\u001b[0m\u001b[0;34m\u001b[0m\u001b[0;34m\u001b[0m\u001b[0m\n\u001b[0m\u001b[1;32m      3\u001b[0m         \u001b[0mself\u001b[0m\u001b[0;34m.\u001b[0m\u001b[0mWeights\u001b[0m \u001b[0;34m=\u001b[0m \u001b[0mW\u001b[0m\u001b[0;34m\u001b[0m\u001b[0;34m\u001b[0m\u001b[0m\n\u001b[1;32m      4\u001b[0m         \u001b[0mself\u001b[0m\u001b[0;34m.\u001b[0m\u001b[0mbias\u001b[0m \u001b[0;34m=\u001b[0m \u001b[0mb\u001b[0m\u001b[0;34m\u001b[0m\u001b[0;34m\u001b[0m\u001b[0m\n\u001b[1;32m      5\u001b[0m         \u001b[0mself\u001b[0m\u001b[0;34m.\u001b[0m\u001b[0mtransfer_function\u001b[0m \u001b[0;34m=\u001b[0m \u001b[0mnp\u001b[0m\u001b[0;34m.\u001b[0m\u001b[0mvectorize\u001b[0m\u001b[0;34m(\u001b[0m\u001b[0mtransfer_function\u001b[0m\u001b[0;34m)\u001b[0m\u001b[0;34m\u001b[0m\u001b[0;34m\u001b[0m\u001b[0m\n",
            "\u001b[0;31mNameError\u001b[0m: name 'hardlims' is not defined"
          ]
        }
      ]
    },
    {
      "cell_type": "markdown",
      "source": [
        "### 3.2.2. Perceptron"
      ],
      "metadata": {
        "id": "XyIK8gf-ILu9"
      }
    },
    {
      "cell_type": "code",
      "source": [
        "banana_prototype = np.array([-1, 1, -1]).reshape((3, 1))\n",
        "pineapple_prototype = np.array([-1, -1, 1]).reshape((3, 1))\n",
        "\n",
        "# Weight matrix and bias determined by decision boundary.\n",
        "decision_boundary = (banana_prototype != pineapple_prototype).astype(int).reshape((1, len(banana_prototype)))\n",
        "print(decision_boundary)\n",
        "bias = 0\n",
        "\n",
        "# Create a Perceptron instance\n",
        "bp_perceptron = Perceptron(W=decision_boundary, b=0)\n",
        "\n",
        "# Classify prototypes\n",
        "print(\"Classification results:\")\n",
        "print(\"\\tNear Pineapple:\", bp_perceptron.classify(near_pineapple))\n",
        "print(\"\\tNear Banana:\", bp_perceptron.classify(near_banana))"
      ],
      "metadata": {
        "id": "dkBvz3ESIliK",
        "colab": {
          "base_uri": "https://localhost:8080/",
          "height": 274
        },
        "outputId": "9429d47a-e3ff-44a9-bc7e-3489027ca54a"
      },
      "execution_count": null,
      "outputs": [
        {
          "output_type": "stream",
          "name": "stdout",
          "text": [
            "[[0 1 1]]\n"
          ]
        },
        {
          "output_type": "error",
          "ename": "NameError",
          "evalue": "ignored",
          "traceback": [
            "\u001b[0;31m---------------------------------------------------------------------------\u001b[0m",
            "\u001b[0;31mNameError\u001b[0m                                 Traceback (most recent call last)",
            "\u001b[0;32m<ipython-input-24-c3f4f131283c>\u001b[0m in \u001b[0;36m<cell line: 10>\u001b[0;34m()\u001b[0m\n\u001b[1;32m      8\u001b[0m \u001b[0;34m\u001b[0m\u001b[0m\n\u001b[1;32m      9\u001b[0m \u001b[0;31m# Create a Perceptron instance\u001b[0m\u001b[0;34m\u001b[0m\u001b[0;34m\u001b[0m\u001b[0m\n\u001b[0;32m---> 10\u001b[0;31m \u001b[0mbp_perceptron\u001b[0m \u001b[0;34m=\u001b[0m \u001b[0mPerceptron\u001b[0m\u001b[0;34m(\u001b[0m\u001b[0mW\u001b[0m\u001b[0;34m=\u001b[0m\u001b[0mdecision_boundary\u001b[0m\u001b[0;34m,\u001b[0m \u001b[0mb\u001b[0m\u001b[0;34m=\u001b[0m\u001b[0;36m0\u001b[0m\u001b[0;34m)\u001b[0m\u001b[0;34m\u001b[0m\u001b[0;34m\u001b[0m\u001b[0m\n\u001b[0m\u001b[1;32m     11\u001b[0m \u001b[0;34m\u001b[0m\u001b[0m\n\u001b[1;32m     12\u001b[0m \u001b[0;31m# Classify prototypes\u001b[0m\u001b[0;34m\u001b[0m\u001b[0;34m\u001b[0m\u001b[0m\n",
            "\u001b[0;31mNameError\u001b[0m: name 'Perceptron' is not defined"
          ]
        }
      ]
    },
    {
      "cell_type": "code",
      "source": [
        "bp_perceptron = Perceptron(W=decision_boundary, b=0)\n",
        "print(\"\\t\", \"near_pineapple\", bp_perceptron.classify(near_pineapple))\n",
        "print(\"\\t\", \"near_banana\", bp_perceptron.classify(near_banana))"
      ],
      "metadata": {
        "id": "XxkzzB0AGulD"
      },
      "execution_count": null,
      "outputs": []
    },
    {
      "cell_type": "code",
      "source": [],
      "metadata": {
        "id": "kyyky66tHEux"
      },
      "execution_count": null,
      "outputs": []
    },
    {
      "cell_type": "markdown",
      "source": [
        "## 3.1.3. Hamming network"
      ],
      "metadata": {
        "id": "eSvtFbx6Jw5g"
      }
    },
    {
      "cell_type": "markdown",
      "source": [
        "### 3.3.1. Hamming nw"
      ],
      "metadata": {
        "id": "btFXv33yLKok"
      }
    },
    {
      "cell_type": "code",
      "source": [
        "class HammingNetwork(object):\n",
        "    def __init__(self, prototypes):\n",
        "        self.feedForwardLayer = self.FeedForwardLayer(W=prototypes)\n",
        "        self.recurrentLayer = self.RecurrentLayer()\n",
        "\n",
        "    def classify(self, obj):\n",
        "        a1 = self.feedForwardLayer.propagate(obj=obj)\n",
        "        recurrent_result = self.recurrentLayer.propagate(initial_a=a1)\n",
        "        return compet(recurrent_result)\n",
        "\n",
        "    class FeedForwardLayer(object):\n",
        "        def __init__(self, W, transfer_function=purelin):\n",
        "            self.Weights = W\n",
        "            self.bias = np.repeat(self.Weights.shape[0], self.Weights.shape[0]).reshape((self.Weights.shape[0], 1))\n",
        "            self.transfer_function = np.vectorize(transfer_function, otypes=[np.float64])\n",
        "\n",
        "        def propagate(self, obj):\n",
        "            return self.transfer_function(self.Weights.dot(obj) + self.bias)\n",
        "\n",
        "    class RecurrentLayer(object):\n",
        "        def __init__(self, W=None, transfer_function=poslin):\n",
        "            if W is None:\n",
        "                self.Weights = W\n",
        "            else:\n",
        "                self.Weights = None\n",
        "            self.transfer_function = np.vectorize(transfer_function, otypes=[np.float64])\n",
        "\n",
        "        def propagate(self, initial_a):\n",
        "            if self.Weights is None:\n",
        "                s = initial_a.shape[0]\n",
        "                epsilon = 1 / (s - 1)\n",
        "                epsilon -= 0.01\n",
        "                epsilon *= -1\n",
        "                self.Weights = np.ones((s, s))\n",
        "                for i in range(s):\n",
        "                    for j in range(s):\n",
        "                        if i != j:\n",
        "                            self.Weights[i][j] = epsilon\n",
        "\n",
        "            a2 = self.transfer_function(self.Weights.dot(initial_a))\n",
        "\n",
        "            while True:\n",
        "                a3 = self.transfer_function(self.Weights.dot(a2))\n",
        "                if not np.array_equal(a2, a3):\n",
        "                    a2 = a3\n",
        "                else:\n",
        "                    return a3"
      ],
      "metadata": {
        "id": "pOMPDpuwR8Y5"
      },
      "execution_count": null,
      "outputs": []
    },
    {
      "cell_type": "markdown",
      "source": [
        "### 3.3.2. Results"
      ],
      "metadata": {
        "id": "Gwd2aX11LkNE"
      }
    },
    {
      "cell_type": "code",
      "source": [
        "\n",
        "banana_prototype = np.array([-1, 1, -1]).reshape((3, 1))\n",
        "pineapple_prototype = np.array([-1, -1, 1]).reshape((3, 1))\n",
        "prototypes = np.array([banana_prototype.T[0], pineapple_prototype.T[0]])\n",
        "\n",
        "print(\"\\nii. Design a Hamming network to recognize these patterns.\")\n",
        "\n",
        "test_fruit = np.array([-1, -1, -1]).reshape((3, 1))\n",
        "\n",
        "hammingFruitClassifier = HammingNetwork(prototypes=prototypes)\n",
        "print(hammingFruitClassifier.classify(obj=test_fruit))\n",
        "\n",
        "\n",
        "near_pineapple = np.array([1, -1, 1]).reshape((3, 1))\n",
        "near_banana = np.array([-1, 1, -1]).reshape((3, 1))\n",
        "print(\"\\t\", \"near_pineapple\", bp_hamming.classify(near_pineapple))\n",
        "print(\"\\t\", \"near_banana\", bp_hamming.classify(near_banana))\n",
        "\n"
      ],
      "metadata": {
        "id": "k1-O3vMGOTb6"
      },
      "execution_count": null,
      "outputs": []
    },
    {
      "cell_type": "code",
      "source": [],
      "metadata": {
        "id": "5F1l23x2SjX-"
      },
      "execution_count": null,
      "outputs": []
    },
    {
      "cell_type": "markdown",
      "source": [
        "## 3.1.4. HopfieldNetwork"
      ],
      "metadata": {
        "id": "P3zwN2RLTH3_"
      }
    },
    {
      "cell_type": "markdown",
      "source": [
        "### 3.4.1. HopfieldNetwork"
      ],
      "metadata": {
        "id": "2xhew8wXTUvN"
      }
    },
    {
      "cell_type": "code",
      "source": [
        "class HopfieldNetwork(object):\n",
        "    def __init__(self, weights=np.array([[0.2, 0, 0], [0, 1.2, 0], [0, 0, 0.2]]), transfer_function=satlins, bias=np.array([0.9, 0, -0.9])):\n",
        "        self.weights = weights\n",
        "        self.bias = bias.reshape((weights.shape[0], 1))\n",
        "        self.transfer_function = np.vectorize(transfer_function, otypes=[float])\n",
        "        self.activations = []\n",
        "\n",
        "    def classify(self, a0):\n",
        "        self.activations.append(a0)\n",
        "        a1 = self.transfer_function(self.weights.dot(a0) + self.bias)\n",
        "        self.activations.append(a1)\n",
        "        if np.array_equal(a0, a1):\n",
        "            return a1\n",
        "        else:\n",
        "            while True:\n",
        "                an = self.transfer_function(self.weights.dot(a1) + self.bias)\n",
        "                self.activations.append(an)\n",
        "                if not np.array_equal(an, a1):\n",
        "                    a1 = an\n",
        "                else:\n",
        "                    return an"
      ],
      "metadata": {
        "id": "PuNOJfIvTcXn"
      },
      "execution_count": null,
      "outputs": []
    },
    {
      "cell_type": "markdown",
      "source": [
        "### 3.4.2. Results"
      ],
      "metadata": {
        "id": "D96C08EfTUQf"
      }
    },
    {
      "cell_type": "code",
      "source": [
        "W = np.array([[0.2, 0, 0], [0, 1.2, 0], [0, 0, 1.2]])\n",
        "print(W)"
      ],
      "metadata": {
        "id": "e7oQJCUQUy_N"
      },
      "execution_count": null,
      "outputs": []
    },
    {
      "cell_type": "code",
      "source": [
        "bias=np.array([-0.9, 0, 0])\n",
        "print(bias)"
      ],
      "metadata": {
        "id": "y-CoZO2CU4u1"
      },
      "execution_count": null,
      "outputs": []
    },
    {
      "cell_type": "code",
      "source": [
        "print(\"\\niii. Design a Hopfield network to recognize thse patterns.\")\n",
        "bp_hopfield = HopfieldNetwork(weights = np.array([[0.2, 0, 0], [0, 1.2, 0], [0, 0, 1.2]]), bias=np.array([-0.9, 0, 0]))\n",
        "print(\"\\t\", \"near_pineapple\", bp_hopfield.classify(near_pineapple))\n",
        "print(\"\\t\", \"near_banana\", bp_hopfield.classify(near_banana))"
      ],
      "metadata": {
        "id": "rCBoqUmpUNcs"
      },
      "execution_count": null,
      "outputs": []
    },
    {
      "cell_type": "code",
      "source": [
        "test_obj = np.array([-1, -1, -1]).reshape((3, 1))\n",
        "\n",
        "test_hopfield = HopfieldNetwork()\n",
        "print(test_hopfield.classify(test_obj))"
      ],
      "metadata": {
        "id": "NJ6UXmxfTO-v"
      },
      "execution_count": null,
      "outputs": []
    },
    {
      "cell_type": "markdown",
      "source": [
        "\n",
        "\n",
        "---\n",
        "\n",
        "\n",
        "\n",
        "---\n",
        "\n"
      ],
      "metadata": {
        "id": "hn2JKs2tWCTi"
      }
    },
    {
      "cell_type": "markdown",
      "source": [
        "# 3.2"
      ],
      "metadata": {
        "id": "xlwHW8dEWEyn"
      }
    },
    {
      "cell_type": "code",
      "source": [
        "import matplotlib.pyplot as plt\n",
        "\n",
        "# Coordinates\n",
        "x = 1\n",
        "y = 0.5\n",
        "\n",
        "# Create a figure and axis\n",
        "fig, ax = plt.subplots()\n",
        "\n",
        "# Plot the vector\n",
        "ax.quiver(0, 0, x, y, angles='xy', scale_units='xy', scale=1, color='b')\n",
        "\n",
        "# Set the aspect ratio of the plot to be equal\n",
        "ax.set_aspect('equal')\n",
        "\n",
        "# Set plot limits\n",
        "plt.xlim(0, 1.2)\n",
        "plt.ylim(0, 0.7)\n",
        "\n",
        "# Set labels and title\n",
        "plt.xlabel('X')\n",
        "plt.ylabel('Y')\n",
        "plt.title('Vector: x=1, y=0.5')\n",
        "\n",
        "# Show the plot\n",
        "plt.show()\n"
      ],
      "metadata": {
        "id": "-P3yyY31dDNe"
      },
      "execution_count": null,
      "outputs": []
    },
    {
      "cell_type": "code",
      "source": [
        "\n",
        "p_1 = np.array([1, 0.5]).reshape((2, 1))\n",
        "p_2 = np.array([2, 1]).reshape((2, 1))\n"
      ],
      "metadata": {
        "id": "V4ElRr3CWD2L"
      },
      "execution_count": null,
      "outputs": []
    },
    {
      "cell_type": "markdown",
      "source": [
        "i.   Find and sketch the decision boundary for a perceptron network that will recognize these two vectors."
      ],
      "metadata": {
        "id": "6Kkg8HDmY1pV"
      }
    },
    {
      "cell_type": "markdown",
      "source": [
        "ii. Find weights and bias which will produce the decision boundary you found in part i, and sketch the network diagram."
      ],
      "metadata": {
        "id": "5bzi-upfY34b"
      }
    },
    {
      "cell_type": "code",
      "source": [
        "decision_boundary = (p_1 + p_2)/2\n",
        "W = np.array([0.75, 0])\n",
        "b = 0.75\n",
        "print(\"decision_boundary\", decision_boundary )\n",
        "print(\"W\", W, \"b\", b)\n"
      ],
      "metadata": {
        "id": "-F3ajUl1WQd9"
      },
      "execution_count": null,
      "outputs": []
    },
    {
      "cell_type": "markdown",
      "source": [
        "iii. Calculate the network output for the following input.  Is the network response (decision) reasonable? Explain."
      ],
      "metadata": {
        "id": "1SZeRAHtaRWF"
      }
    },
    {
      "cell_type": "code",
      "source": [
        "\n",
        "print(\"\\n\\tp_test = [1, 0].T\")\n",
        "p_test = np.array([ 1,0]).reshape((2, 1))\n",
        "test_perceptron = Perceptron(W=W, b=b)\n",
        "print(\"Classification = \", test_perceptron.classify(p_test))\n"
      ],
      "metadata": {
        "id": "KJUKK05HW_lc"
      },
      "execution_count": null,
      "outputs": []
    },
    {
      "cell_type": "markdown",
      "source": [
        " Yes this is reasonable as p_test is closer to p_1 than p_2"
      ],
      "metadata": {
        "id": "29M04YVMahHd"
      }
    },
    {
      "cell_type": "markdown",
      "source": [
        "iv.  Design a Hamming network to recognize the two prototype vectors above."
      ],
      "metadata": {
        "id": "d44V2u4yYdsX"
      }
    },
    {
      "cell_type": "code",
      "source": [
        "\n",
        "prototypes = np.array([p_1.T[0], p_2.T[0]])\n",
        "test_hamming = HammingNetwork(prototypes=prototypes)\n",
        "print(\"Classification = \", test_hamming.classify(p_test))\n"
      ],
      "metadata": {
        "id": "QK9VwwcrXBgp"
      },
      "execution_count": null,
      "outputs": []
    },
    {
      "cell_type": "markdown",
      "source": [
        "v. Calculate the network output for the Hamming network with the input vector given in part iii, showing all steps. Does the Hamming network produce the same deceiion as the perceptron? Explain why or why not.  Which network is better suited to this problem? Explain"
      ],
      "metadata": {
        "id": "ZmCM9uSTX4SI"
      }
    },
    {
      "cell_type": "markdown",
      "source": [
        "*No.  The Hamming network misclassifies the test input.  This is because the Hamming network is only designed to classify problems where the input vector only has two possible values.*"
      ],
      "metadata": {
        "id": "-i9VnTkVX-pz"
      }
    },
    {
      "cell_type": "code",
      "source": [],
      "metadata": {
        "id": "MYe4u1eaXxoV"
      },
      "execution_count": null,
      "outputs": []
    },
    {
      "cell_type": "markdown",
      "source": [
        "\n",
        "\n",
        "---\n",
        "\n",
        "\n",
        "\n",
        "---\n",
        "\n"
      ],
      "metadata": {
        "id": "qdxCoH0Ya8E6"
      }
    },
    {
      "cell_type": "markdown",
      "source": [
        "# 3.3"
      ],
      "metadata": {
        "id": "mZnTJEp2a9lZ"
      }
    },
    {
      "cell_type": "markdown",
      "source": [
        "i. The following input (initial condition) is applied to the network. Find the network response (show the network output at each iteration until the network converges)"
      ],
      "metadata": {
        "id": "tmq7qHZ7bKPn"
      }
    },
    {
      "cell_type": "code",
      "source": [
        "print(\"Consider a Hopfield network, with the follwing weight and bias.\", \"\\n\\tW = [[1, -1], [-1, 1]]  b = [0, 0].T\")\n",
        "\n",
        "weights = np.array([[1, -1], [-1, 1]])\n",
        "bias = np.array([0, 0]).reshape((2, 1))\n",
        "\n",
        "test_input = np.array([0.9, 1]).reshape((2, 1))\n",
        "\n",
        "Network = HopfieldNetwork(weights= weights, bias = bias)\n",
        "Network.classify(a0 = test_input)\n",
        "\n",
        "print(\"Listing activations\")\n",
        "for index, activation in enumerate(Network.activations):\n",
        "    print(\"\\n\", index, activation)"
      ],
      "metadata": {
        "id": "l683FkhOa8w2"
      },
      "execution_count": null,
      "outputs": []
    },
    {
      "cell_type": "markdown",
      "source": [
        "ii. Draw a sketch indicating what region of the input space will converge to the same final output that you found in part i. (In other words, for what other p vectors will the network converge to the same final output?) Explain how you obtained your answer"
      ],
      "metadata": {
        "id": "W6zJRwIub9pa"
      }
    },
    {
      "cell_type": "code",
      "source": [
        "x = np.linspace(-50,50)\n",
        "y = x\n",
        "y_edge = np.linspace(50,50)\n",
        "plt.plot(x,y)\n",
        "plt.fill_between(x, y, y_edge, where = y_edge > y)\n",
        "plt.grid(True)\n",
        "plt.show()"
      ],
      "metadata": {
        "id": "PFz7du6Eba9r"
      },
      "execution_count": null,
      "outputs": []
    },
    {
      "cell_type": "markdown",
      "source": [
        "\n",
        "iii. What other prototypes will this network converge to, and what regions of the input space corresponds to each prototype (sket the regions).  Explain how you obtained your answer.\"\n",
        "\n",
        "\n",
        "All prototypes above the line x=y because this is the decision matrix that would be generated by a weight = [[1, -1], [-1, 1]] and bias = [0, 0]\""
      ],
      "metadata": {
        "id": "bIl1FtfxcNu7"
      }
    },
    {
      "cell_type": "code",
      "source": [],
      "metadata": {
        "id": "jQdgom-ucEX4"
      },
      "execution_count": null,
      "outputs": []
    }
  ]
}
